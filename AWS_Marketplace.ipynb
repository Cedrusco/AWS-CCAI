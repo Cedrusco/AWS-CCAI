{
 "cells": [
  {
   "cell_type": "markdown",
   "id": "d7974056",
   "metadata": {},
   "source": [
    "# Prerequisites"
   ]
  },
  {
   "cell_type": "markdown",
   "id": "a62ae095",
   "metadata": {},
   "source": [
    "1. Please read the contents of this notebook carefully to run CCAI successfully\n",
    "2. Ensure that the user has the all permissions to run Sagemaker\n",
    "3. Ensure that user has all permissions to read/write/edit/copy S3 buckets\n",
    "4. Some hands-on experience using Amazon SageMaker\n",
    "5. Conversation audio files must be transcribed to text using AWS Transcribe\n",
    "6. To use CCAI successfully, ensure your IAM role has these three permissions and you have authority to make AWS Marketplace subscriptions in the AWS account used:\n",
    "    * aws-marketplace:ViewSubscriptions\n",
    "    * aws-marketplace:Unsubscribe\n",
    "    * aws-marketplace:Subscribe\n",
    "7. CCAI pipeline requires a csv file **df_date.csv** containing the dates of the conversations and unique filenames as an input. Refer to https://github.com/Cedrusco/AWS-CCAI/tree/main/Sample%20Dates%20Dataframe for a sample file\n",
    "8. For best results a minimum of 20K transcripts/conversations is recommended to run the CCAI pipeline"
   ]
  },
  {
   "cell_type": "markdown",
   "id": "5c107117",
   "metadata": {},
   "source": [
    "# Contents\n",
    "\n",
    "1. [Create & Load S3 Buckets](#1)\n",
    "1. [Create a training job on AWS SageMaker](#2)  \n",
    "1. [Review results](#3)\n",
    "\n"
   ]
  },
  {
   "cell_type": "markdown",
   "id": "bfb34ddf",
   "metadata": {},
   "source": [
    "CCAI utilizes a data modeling pipeline which runs remotely, the instructions below will help the user to extract insights from transcribed telephone conversations"
   ]
  },
  {
   "cell_type": "markdown",
   "id": "4e7b27b2",
   "metadata": {},
   "source": [
    "<a id=\"1\"></a> \n",
    "## 1. Create & Load S3 Buckets"
   ]
  },
  {
   "cell_type": "markdown",
   "id": "00b1b928",
   "metadata": {},
   "source": [
    "CCAI pipeline requires the user to create two S3 Buckets with below listed names:\n",
    " * \"cba-transcribe-input\"\n",
    " * \"cba-call-analytics-output\""
   ]
  },
  {
   "cell_type": "markdown",
   "id": "ea01d09d",
   "metadata": {},
   "source": [
    "### 1.1 cba-transcribe-input"
   ]
  },
  {
   "cell_type": "markdown",
   "id": "c54879ac",
   "metadata": {},
   "source": [
    "This bucket needs to be utilized as a storage place for all the transcribed conversations. The input files need to be in .json format with a specific structure file. Review sample input files here- **https://github.com/Cedrusco/AWS-CCAI/tree/main/Sample%20Input%20Data**\n"
   ]
  },
  {
   "cell_type": "markdown",
   "id": "f1b69630",
   "metadata": {},
   "source": [
    "### 1.2 cba-call-analytics-output"
   ]
  },
  {
   "cell_type": "markdown",
   "id": "96b1fdaf",
   "metadata": {},
   "source": [
    "1. The S3 output bucket will contain output files once CCAI pipeline is succesfully completed. \n",
    "2. Every time the pipeline is run a new folder is created with a format \"CCAI_batchId_(date/time)\" specifying the date and time the pipeline was started. Review sample outputs here - **https://github.com/Cedrusco/AWS-CCAI/tree/main/Sample%20Output%20Data**.\n",
    "3. After creating the output bucket create a folder and name it Date_dataframe. Upload the **df_date.csv** containing the fileNames and dates into the folder. The file structure must be : s3://cba-call-analytics-output/Date_dataframe/df_date.csv.\n",
    "4. Sample Date dataframe is here - https://github.com/Cedrusco/AWS-CCAI/tree/main/Sample%20Dates%20Dataframe.\n"
   ]
  },
  {
   "cell_type": "markdown",
   "id": "95b0d0d7",
   "metadata": {},
   "source": [
    "<a id=\"2\"></a> \n",
    "# 2. Create a training job on AWS SageMaker"
   ]
  },
  {
   "cell_type": "markdown",
   "id": "2af87dd8",
   "metadata": {},
   "source": [
    "1. Navigate to AWS SageMaker on AWS console and click on **Training Jobs** listed under **Training** located on the left side of the webpage\n",
    "2. Click on **Create training job** located on the top right corner of the same page\n",
    "3. A new page loads with a heading **Job Settings**. Under **Job Settings** specify **Job Name** with a desired name\n",
    "4. Scroll down, under **Algorithm source** select radio button next to **An algorithm subscription from AWS Marketplace** and select **CCAI**\n",
    "5. Under **Resource configuration** select **ml.m4.xlarge**\n",
    "6. Scroll down to **Input data configuration** under **S3 location** specify path for the cba-transcribe-input S3 bucket created in step 1\n",
    "7. Scroll further down to **Output data configuration** under **S3 output path** specify path for the cba-call-analytics-output created in step 2"
   ]
  },
  {
   "cell_type": "markdown",
   "id": "990c2a83",
   "metadata": {},
   "source": [
    "<a id=\"3\"></a> \n",
    "# 3. Review Results"
   ]
  },
  {
   "cell_type": "markdown",
   "id": "95ba80f7",
   "metadata": {},
   "source": [
    "After the training job on Sagemaker is completed, review the **cba-call-analytics-output** bucket for results which should contain 3 reports:\n",
    "  * Insights_Report.csv - Provides a snapshot of each indicator and KPI by Issue. \n",
    "  * Transcripts.csv - Each transcript with Date and indicator\n",
    "  * Call_Duration.csv - Call Volume and Avg Call Duration by Date\n",
    "  \n"
   ]
  },
  {
   "cell_type": "code",
   "execution_count": null,
   "id": "3a1d8cb1",
   "metadata": {},
   "outputs": [],
   "source": []
  },
  {
   "cell_type": "code",
   "execution_count": null,
   "id": "9b2462f5",
   "metadata": {},
   "outputs": [],
   "source": []
  },
  {
   "cell_type": "code",
   "execution_count": null,
   "id": "e624357a",
   "metadata": {},
   "outputs": [],
   "source": []
  },
  {
   "cell_type": "code",
   "execution_count": null,
   "id": "c4818fcc",
   "metadata": {},
   "outputs": [],
   "source": []
  }
 ],
 "metadata": {
  "kernelspec": {
   "display_name": "Python 3 (ipykernel)",
   "language": "python",
   "name": "python3"
  },
  "language_info": {
   "codemirror_mode": {
    "name": "ipython",
    "version": 3
   },
   "file_extension": ".py",
   "mimetype": "text/x-python",
   "name": "python",
   "nbconvert_exporter": "python",
   "pygments_lexer": "ipython3",
   "version": "3.8.8"
  }
 },
 "nbformat": 4,
 "nbformat_minor": 5
}
